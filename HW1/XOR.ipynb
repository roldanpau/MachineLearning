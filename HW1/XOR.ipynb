{
  "nbformat": 4,
  "nbformat_minor": 0,
  "metadata": {
    "colab": {
      "name": "XOR.ipynb",
      "provenance": [],
      "collapsed_sections": []
    },
    "kernelspec": {
      "name": "python3",
      "display_name": "Python 3"
    }
  },
  "cells": [
    {
      "cell_type": "code",
      "metadata": {
        "id": "Q7kt43gmL68l",
        "colab_type": "code",
        "outputId": "297a064e-6e34-4cc5-abb9-8af649d3d35c",
        "colab": {
          "base_uri": "https://localhost:8080/",
          "height": 338
        }
      },
      "source": [
        "import numpy as np\n",
        "import matplotlib.pyplot as plt\n",
        "from sortedcontainers import SortedKeyList\n",
        "\n",
        "# FUNCTION: Create XOR dataset.\n",
        "# Data set is created by sampling from a Gaussian distribution around\n",
        "# four centroids:\n",
        "# Points around (1,1) are assigned the value \"0\" (red)\n",
        "# Points around (5,5) are assigned the value \"0\" (red)\n",
        "# Points around (1,5) are assigned the value \"1\" (blue)\n",
        "# Points around (5,1) are assigned the value \"1\" (blue)\n",
        "def createXORdata():\n",
        "  off1 = np.random.multivariate_normal([1, 1], 0.5*np.identity(2), 20);\n",
        "  off2 = np.random.multivariate_normal([5, 5], 0.5*np.identity(2), 20);\n",
        "  on1 = np.random.multivariate_normal([1, 5], 0.5*np.identity(2), 20);\n",
        "  on2 = np.random.multivariate_normal([5, 1], 0.5*np.identity(2), 20);\n",
        "  X    = np.concatenate((off1, off2, on1, on2));\n",
        "  zer = np.zeros(off1.shape[0] + off2.shape[0])\n",
        "  one = np.ones(on1.shape[0] + on2.shape[0])\n",
        "  y    = np.concatenate((zer,one))\n",
        "  return X,y\n",
        "\n",
        "# FUNCTION: KNN search.\n",
        "# We use a naive algorithm for KNN search (linear search):\n",
        "# compute the distance from q to every point in the set X, \n",
        "# keeping track of the k \"best so far\"\n",
        "def KNN_search(X,y,q,k):\n",
        "\n",
        "  # Initialize list of neighbors. \n",
        "  # We keep a sorted list with the k nearest neighbors, \n",
        "  # sorted by key = distance to query point.\n",
        "  neighbors = SortedKeyList(key=lambda x: x[0])\n",
        "\n",
        "  dist_k_best = np.inf # initialize distance of k \"best so far\" to infinity\n",
        "\n",
        "  # loop over every point in X\n",
        "  for i in range(len(X)):\n",
        "    x = X[i]\n",
        "    d = np.linalg.norm(x-q) # Euclidean distance between x and q\n",
        "    if d < dist_k_best:\n",
        "      neighbors.add([d,x,y[i]])  # add point x to list of neighbors, with key d\n",
        "      if len(neighbors)>k:\n",
        "        n = neighbors.pop(k-1)  # pop kth neighbor\n",
        "      else:\n",
        "        n = neighbors[-1]       # no need to pop kth neighbor\n",
        "\n",
        "      dist_k_best = n[0]  # update distance of k \"best so far\"\n",
        "\n",
        "  return neighbors\n",
        "\n",
        "# FUNCTION: KNN predictor.\n",
        "# Predict color of a query point q, given a trained model X,y.\n",
        "def KNN_predict(X,y,q,k):\n",
        "  neighbors = KNN_search(X,y,q,k)\n",
        "  #print(list(neighbors))\n",
        "\n",
        "  # Find majority vote for the color of query point q\n",
        "  num_red = 0\n",
        "  for n in neighbors:\n",
        "    if n[2] == 0:\n",
        "      num_red += 1\n",
        "  num_blue = k-num_red\n",
        "\n",
        "  if num_blue > num_red:\n",
        "    print(\"Query point\", q, \"is predicted blue\")\n",
        "  else:\n",
        "    print(\"Query point\", q, \"is predicted red\")\n",
        "\n",
        "# MAIN PROGRAM starts here\n",
        "X,y = createXORdata()\n",
        "\n",
        "# Plot created XOR data. \n",
        "# Use Spectral colormap, so that 0 is red and 1 is blue.\n",
        "xcoords, ycoords = zip(*X)\n",
        "plt.scatter(xcoords, ycoords, c=y, cmap=\"Spectral\")\n",
        "\n",
        "# No need to train the model, since it is non-parametric\n",
        "\n",
        "# Make a prediction for a few query points q\n",
        "neighbors = KNN_predict(X,y,[[1,1]],3)\n",
        "neighbors = KNN_predict(X,y,[[5,1]],3)\n",
        "neighbors = KNN_predict(X,y,[[1,6]],3)\n",
        "\n",
        "# The point (3,3) is at the boundary, so it is sometimes predicted red, \n",
        "# sometimes blue.\n",
        "neighbors = KNN_predict(X,y,[[3,3]],3)\n"
      ],
      "execution_count": 53,
      "outputs": [
        {
          "output_type": "stream",
          "text": [
            "Query point [[1, 1]] is predicted red\n",
            "Query point [[5, 1]] is predicted blue\n",
            "Query point [[1, 6]] is predicted blue\n",
            "Query point [[3, 3]] is predicted blue\n"
          ],
          "name": "stdout"
        },
        {
          "output_type": "display_data",
          "data": {
            "image/png": "[encoded data removed]",
            "text/plain": [
              "<Figure size 432x288 with 1 Axes>"
            ]
          },
          "metadata": {
            "tags": []
          }
        }
      ]
    }
  ]
}