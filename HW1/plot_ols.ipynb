{
  "nbformat": 4,
  "nbformat_minor": 0,
  "metadata": {
    "kernelspec": {
      "display_name": "Python 3",
      "language": "python",
      "name": "python3"
    },
    "language_info": {
      "codemirror_mode": {
        "name": "ipython",
        "version": 3
      },
      "file_extension": ".py",
      "mimetype": "text/x-python",
      "name": "python",
      "nbconvert_exporter": "python",
      "pygments_lexer": "ipython3",
      "version": "3.7.6"
    },
    "colab": {
      "name": "plot_ols.ipynb",
      "provenance": []
    }
  },
  "cells": [
    {
      "cell_type": "code",
      "metadata": {
        "id": "mFYWQVRdDTFH",
        "colab_type": "code",
        "colab": {}
      },
      "source": [
        "%matplotlib inline"
      ],
      "execution_count": 0,
      "outputs": []
    },
    {
      "cell_type": "markdown",
      "metadata": {
        "id": "5-6bqy1oDTFW",
        "colab_type": "text"
      },
      "source": [
        "\n",
        "# Linear Regression Example\n",
        "\n",
        "This example uses the only the first feature of the `diabetes` dataset, in\n",
        "order to illustrate a two-dimensional plot of this regression technique. The\n",
        "straight line can be seen in the plot, showing how linear regression attempts\n",
        "to draw a straight line that will best minimize the residual sum of squares\n",
        "between the observed responses in the dataset, and the responses predicted by\n",
        "the linear approximation.\n",
        "\n",
        "The coefficients, the residual sum of squares and the coefficient\n",
        "of determination are also calculated.\n"
      ]
    },
    {
      "cell_type": "code",
      "metadata": {
        "id": "KrNlvXa1DTFc",
        "colab_type": "code",
        "outputId": "bb63edab-28cf-4fae-e818-11dad08d17ba",
        "colab": {
          "base_uri": "https://localhost:8080/",
          "height": 344
        }
      },
      "source": [
        "print(__doc__)\n",
        "\n",
        "\n",
        "# Code source: Jaques Grobler\n",
        "# License: BSD 3 clause\n",
        "\n",
        "\n",
        "import matplotlib.pyplot as plt\n",
        "import numpy as np\n",
        "from sklearn import datasets, linear_model\n",
        "from sklearn.metrics import mean_squared_error, r2_score\n",
        "from scipy.stats import norm\n",
        "from random import random\n",
        "\n",
        "# Generate my own dataset.\n",
        "# The dataset consists of 100 data pairs (x,y). \n",
        "# The x-values are real numbers between 0 and 100. \n",
        "# The corresponding y-values have been generated using the function \n",
        "# ppf(random(), x, 10). (ppf is the percent point function \n",
        "# --the inverse of the normal CDF).\n",
        "# Consequently, the best estimate for y should be x. \n",
        "ds_X = 100*np.random.rand(100,1)\n",
        "\n",
        "ds_y = np.zeros((100,1))\n",
        "for i in range(100):\n",
        "  pp=norm.ppf(random(), loc=ds_X[i], scale=10)\n",
        "  ds_y[i] = pp[0]\n",
        "\n",
        "#print(ds_X)\n",
        "#print(ds_Y)\n",
        "\n",
        "# Split the data into training/testing sets\n",
        "ds_X_train = ds_X[:-20]\n",
        "ds_X_test = ds_X[-20:]\n",
        "\n",
        "# Split the targets into training/testing sets\n",
        "ds_y_train = ds_y[:-20]\n",
        "ds_y_test = ds_y[-20:]\n",
        "\n",
        "# Create linear regression object\n",
        "regr = linear_model.LinearRegression()\n",
        "\n",
        "# Train the model using the training sets\n",
        "regr.fit(ds_X_train, ds_y_train)\n",
        "\n",
        "# Make predictions using the testing set\n",
        "ds_y_pred = regr.predict(ds_X_test)\n",
        "\n",
        "# The coefficients\n",
        "print('Coefficients: \\n', regr.coef_)\n",
        "# The mean squared error\n",
        "print('Mean squared error: %.2f'\n",
        "      % mean_squared_error(ds_y_test, ds_y_pred))\n",
        "# The coefficient of determination: 1 is perfect prediction\n",
        "print('Coefficient of determination: %.2f'\n",
        "      % r2_score(ds_y_test, ds_y_pred))\n",
        "\n",
        "# Plot outputs\n",
        "plt.scatter(ds_X_test, ds_y_test,  color='black')\n",
        "plt.plot(ds_X_test, ds_y_pred, color='blue', linewidth=3)\n",
        "\n",
        "plt.xticks(())\n",
        "plt.yticks(())\n",
        "\n",
        "plt.show()"
      ],
      "execution_count": 44,
      "outputs": [
        {
          "output_type": "stream",
          "text": [
            "Automatically created module for IPython interactive environment\n",
            "Coefficients: \n",
            " [[1.08381404]]\n",
            "Mean squared error: 68.46\n",
            "Coefficient of determination: 0.94\n"
          ],
          "name": "stdout"
        },
        {
          "output_type": "display_data",
          "data": {
            "image/png": "[encoded data removed]",
            "text/plain": [
              "<Figure size 432x288 with 1 Axes>"
            ]
          },
          "metadata": {
            "tags": []
          }
        }
      ]
    },
    {
      "cell_type": "code",
      "metadata": {
        "id": "LSwyC2M2Kkgu",
        "colab_type": "code",
        "colab": {}
      },
      "source": [
        ""
      ],
      "execution_count": 0,
      "outputs": []
    }
  ]
}