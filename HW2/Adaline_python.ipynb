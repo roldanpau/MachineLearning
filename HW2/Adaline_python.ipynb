{
  "nbformat": 4,
  "nbformat_minor": 0,
  "metadata": {
    "colab": {
      "name": "Adaline_python.ipynb",
      "provenance": [],
      "collapsed_sections": []
    },
    "kernelspec": {
      "name": "python3",
      "display_name": "Python 3"
    }
  },
  "cells": [
    {
      "cell_type": "code",
      "metadata": {
        "id": "0d4-wNsNeMHu",
        "colab_type": "code",
        "colab": {}
      },
      "source": [
        "import numpy as np\n",
        "import tensorflow as tf\n",
        "from keras.models import Sequential\n",
        "import pandas as pd\n",
        "from keras.layers import Dense\n",
        "from sklearn.model_selection import train_test_split\n",
        "import matplotlib.pyplot as plt\n"
      ],
      "execution_count": 0,
      "outputs": []
    },
    {
      "cell_type": "code",
      "metadata": {
        "id": "SlVpl8yWb4iL",
        "colab_type": "code",
        "colab": {}
      },
      "source": [
        "class AdalineGD(object):\n",
        "  \"\"\"ADAptive LInear NEuron classifier.\n",
        "\n",
        "  Parameters\n",
        "  ------------\n",
        "  eta : float\n",
        "  Learning rate (between 0.0 and 1.0)\n",
        "  n_iter : int\n",
        "  Passes over the training dataset.\n",
        "  random_state : int\n",
        "  Random number generator seed for random weight initialization.\n",
        "  \n",
        "  Attributes\n",
        "  -----------\n",
        "  w_ : 1d-array\n",
        "  Weights after fitting.\n",
        "  cost_ : list\n",
        "  Sum-of-squares cost function value in each epoch.\n",
        "  \"\"\"\n",
        "  def __init__(self, eta=0.01, n_iter=50, random_state=1):\n",
        "    self.eta = eta\n",
        "    self.n_iter = n_iter\n",
        "    self.random_state = random_state\n",
        "\n",
        "  def fit(self, X, y):\n",
        "    \"\"\" Fit training data.\n",
        "\n",
        "    Parameters\n",
        "    ----------\n",
        "    X : {array-like}, shape = [n_examples, n_features]\n",
        "    Training vectors, where n_examples\n",
        "    is the number of examples and\n",
        "    n_features is the number of features.\n",
        "    y : array-like, shape = [n_examples]\n",
        "    Target values.\n",
        "    \n",
        "    Returns\n",
        "    -------\n",
        "    self : object\n",
        "    \"\"\"\n",
        "    rgen = np.random.RandomState(self.random_state)\n",
        "    self.w_ = rgen.normal(loc=0.0, scale=0.01,\n",
        "                          size=1 + X.shape[1])\n",
        "    self.cost_ = []\n",
        "    for i in range(self.n_iter):\n",
        "      net_input = self.net_input(X)\n",
        "      output = self.activation(net_input)\n",
        "      errors = (y - output)\n",
        "      self.w_[1:] += self.eta * X.T.dot(errors)\n",
        "      self.w_[0] += self.eta * errors.sum()\n",
        "      cost = (errors**2).sum() / 2.0\n",
        "      self.cost_.append(cost)\n",
        "    return self\n",
        "\n",
        "  def net_input(self, X):\n",
        "    \"\"\"Calculate net input\"\"\"\n",
        "    return np.dot(X, self.w_[1:]) + self.w_[0]\n",
        "      \n",
        "  def activation(self, X):\n",
        "    \"\"\"Compute linear activation\"\"\"\n",
        "    return X\n",
        "      \n",
        "  def predict(self, X):\n",
        "    \"\"\"Return class label after unit step\"\"\"\n",
        "    return np.where(self.activation(self.net_input(X)) >= 0.0, \n",
        "                    1, -1)"
      ],
      "execution_count": 0,
      "outputs": []
    },
    {
      "cell_type": "code",
      "metadata": {
        "id": "bLHezsc_WJyA",
        "colab_type": "code",
        "outputId": "08f78c32-89b4-4481-a0f6-256c9dad1067",
        "colab": {
          "base_uri": "https://localhost:8080/",
          "height": 557
        }
      },
      "source": [
        "# We are interested in how variables, such as GRE (Graduate Record Exam scores), \n",
        "# GPA (grade point average) and prestige of the undergraduate institution, \n",
        "# affect admission into graduate school. \n",
        "#\n",
        "# The response variable, admit/don’t admit, is a binary variable.\n",
        "# There are three predictor variables: gre, gpa and rank. \n",
        "# We will treat the variables gre and gpa as continuous. \n",
        "# The variable rank takes on the values 1 through 4. Institutions with a rank \n",
        "# of 1 have the highest prestige, while those with a rank of 4 have the lowest.\n",
        "#data = pd.read_csv('https://stats.idre.ucla.edu/stat/data/binary.csv')\n",
        "data = pd.read_csv('https://archive.ics.uci.edu/ml/machine-learning-databases/iris/iris.data', \n",
        "                   header=None, \n",
        "                   encoding='utf-8')\n",
        "print(data)\n",
        "\n",
        "data.describe()"
      ],
      "execution_count": 199,
      "outputs": [
        {
          "output_type": "stream",
          "text": [
            "       0    1    2    3               4\n",
            "0    5.1  3.5  1.4  0.2     Iris-setosa\n",
            "1    4.9  3.0  1.4  0.2     Iris-setosa\n",
            "2    4.7  3.2  1.3  0.2     Iris-setosa\n",
            "3    4.6  3.1  1.5  0.2     Iris-setosa\n",
            "4    5.0  3.6  1.4  0.2     Iris-setosa\n",
            "..   ...  ...  ...  ...             ...\n",
            "145  6.7  3.0  5.2  2.3  Iris-virginica\n",
            "146  6.3  2.5  5.0  1.9  Iris-virginica\n",
            "147  6.5  3.0  5.2  2.0  Iris-virginica\n",
            "148  6.2  3.4  5.4  2.3  Iris-virginica\n",
            "149  5.9  3.0  5.1  1.8  Iris-virginica\n",
            "\n",
            "[150 rows x 5 columns]\n"
          ],
          "name": "stdout"
        },
        {
          "output_type": "execute_result",
          "data": {
            "text/html": [
              "<div>\n",
              "<style scoped>\n",
              "    .dataframe tbody tr th:only-of-type {\n",
              "        vertical-align: middle;\n",
              "    }\n",
              "\n",
              "    .dataframe tbody tr th {\n",
              "        vertical-align: top;\n",
              "    }\n",
              "\n",
              "    .dataframe thead th {\n",
              "        text-align: right;\n",
              "    }\n",
              "</style>\n",
              "<table border=\"1\" class=\"dataframe\">\n",
              "  <thead>\n",
              "    <tr style=\"text-align: right;\">\n",
              "      <th></th>\n",
              "      <th>0</th>\n",
              "      <th>1</th>\n",
              "      <th>2</th>\n",
              "      <th>3</th>\n",
              "    </tr>\n",
              "  </thead>\n",
              "  <tbody>\n",
              "    <tr>\n",
              "      <th>count</th>\n",
              "      <td>150.000000</td>\n",
              "      <td>150.000000</td>\n",
              "      <td>150.000000</td>\n",
              "      <td>150.000000</td>\n",
              "    </tr>\n",
              "    <tr>\n",
              "      <th>mean</th>\n",
              "      <td>5.843333</td>\n",
              "      <td>3.054000</td>\n",
              "      <td>3.758667</td>\n",
              "      <td>1.198667</td>\n",
              "    </tr>\n",
              "    <tr>\n",
              "      <th>std</th>\n",
              "      <td>0.828066</td>\n",
              "      <td>0.433594</td>\n",
              "      <td>1.764420</td>\n",
              "      <td>0.763161</td>\n",
              "    </tr>\n",
              "    <tr>\n",
              "      <th>min</th>\n",
              "      <td>4.300000</td>\n",
              "      <td>2.000000</td>\n",
              "      <td>1.000000</td>\n",
              "      <td>0.100000</td>\n",
              "    </tr>\n",
              "    <tr>\n",
              "      <th>25%</th>\n",
              "      <td>5.100000</td>\n",
              "      <td>2.800000</td>\n",
              "      <td>1.600000</td>\n",
              "      <td>0.300000</td>\n",
              "    </tr>\n",
              "    <tr>\n",
              "      <th>50%</th>\n",
              "      <td>5.800000</td>\n",
              "      <td>3.000000</td>\n",
              "      <td>4.350000</td>\n",
              "      <td>1.300000</td>\n",
              "    </tr>\n",
              "    <tr>\n",
              "      <th>75%</th>\n",
              "      <td>6.400000</td>\n",
              "      <td>3.300000</td>\n",
              "      <td>5.100000</td>\n",
              "      <td>1.800000</td>\n",
              "    </tr>\n",
              "    <tr>\n",
              "      <th>max</th>\n",
              "      <td>7.900000</td>\n",
              "      <td>4.400000</td>\n",
              "      <td>6.900000</td>\n",
              "      <td>2.500000</td>\n",
              "    </tr>\n",
              "  </tbody>\n",
              "</table>\n",
              "</div>"
            ],
            "text/plain": [
              "                0           1           2           3\n",
              "count  150.000000  150.000000  150.000000  150.000000\n",
              "mean     5.843333    3.054000    3.758667    1.198667\n",
              "std      0.828066    0.433594    1.764420    0.763161\n",
              "min      4.300000    2.000000    1.000000    0.100000\n",
              "25%      5.100000    2.800000    1.600000    0.300000\n",
              "50%      5.800000    3.000000    4.350000    1.300000\n",
              "75%      6.400000    3.300000    5.100000    1.800000\n",
              "max      7.900000    4.400000    6.900000    2.500000"
            ]
          },
          "metadata": {
            "tags": []
          },
          "execution_count": 199
        }
      ]
    },
    {
      "cell_type": "code",
      "metadata": {
        "colab_type": "code",
        "outputId": "26955f67-5c34-41aa-a693-6fc7c0098db3",
        "id": "qlJ2FMPWX1nY",
        "colab": {
          "base_uri": "https://localhost:8080/",
          "height": 279
        }
      },
      "source": [
        "# \"admit\" is the column with the label (0 or 1).\n",
        "#y=data.iloc[:,0].values\n",
        "y=data.iloc[0:100,4].values\n",
        "y = np.where(y == 'Iris-setosa', -1, 1)\n",
        "#print(y)\n",
        "\n",
        "# The rest of the columns are the features.\n",
        "#X = data.iloc[:,1:4].values\n",
        "X = data.iloc[0:100,[0,2]].values\n",
        "#print(X)\n",
        "\n",
        "# Visualize the training examples. Since we have 3 features, we actually \n",
        "# project onto two features in each plot (GRE vs GPA, and then GRE vs rank).\n",
        "#xcoords, ycoords, zcoords = zip(*X)\n",
        "xcoords, ycoords = zip(*X)\n",
        "\n",
        "#plt.subplot(1, 2, 1)\n",
        "plt.scatter(xcoords, ycoords, c=y, cmap=\"Spectral\")\n",
        "plt.xlabel('GRE')\n",
        "plt.ylabel('GPA')\n",
        "\n",
        "#plt.subplot(1, 2, 2)\n",
        "#plt.scatter(xcoords, zcoords, c=y, cmap=\"Spectral\")\n",
        "#plt.xlabel('GRE')\n",
        "#plt.ylabel('rank')\n",
        "plt.show()\n"
      ],
      "execution_count": 200,
      "outputs": [
        {
          "output_type": "display_data",
          "data": {
            "image/png": "[encoded data removed]",
            "text/plain": [
              "<Figure size 432x288 with 1 Axes>"
            ]
          },
          "metadata": {
            "tags": []
          }
        }
      ]
    },
    {
      "cell_type": "markdown",
      "metadata": {
        "id": "jTy3TuG0aU_4",
        "colab_type": "text"
      },
      "source": [
        "The preceding scatterplot shows the distribution of admissions (blue = admit / red = not admit) in the \n",
        "dataset along the two feature axes: GRE and GPA (or GRE and university rank). In this two-dimensional feature subspace, we can see that a linear decision boundary is NOT sufficient to separate admission from non-admission.\n",
        "Thus, a linear classifier such as logistic regression should not be able to classify the examples in this dataset perfectly."
      ]
    },
    {
      "cell_type": "code",
      "metadata": {
        "id": "kY-vJcv8YCPf",
        "colab_type": "code",
        "colab": {}
      },
      "source": [
        "# We use the scikit-learn function \n",
        "#   train_test_split(X, y, test_size=0.33, random_state=42) to split the data \n",
        "# into training and test data sets, given 33% of the records to the test \n",
        "# data set. The training data set is used to train the mode, meaning find \n",
        "# the weights and biases. The test data set is used to check its accuracy.\n",
        "#X_train, X_test, y_train, y_test = train_test_split(X, y, test_size=0.33)\n",
        "\n",
        "# We decide to not normalize the data values.\n",
        "\n"
      ],
      "execution_count": 0,
      "outputs": []
    },
    {
      "cell_type": "markdown",
      "metadata": {
        "id": "Hnxx6iiIifSJ",
        "colab_type": "text"
      },
      "source": [
        "Now, it's time to train our logistic regression algorithm on the data subset that we\n",
        "just extracted. Also, we will plot the misclassification error for each epoch to check\n",
        "whether the algorithm converged and found a decision boundary that separates the\n",
        "two classes"
      ]
    },
    {
      "cell_type": "code",
      "metadata": {
        "id": "WuArZnnaiYvb",
        "colab_type": "code",
        "colab": {
          "base_uri": "https://localhost:8080/",
          "height": 354
        },
        "outputId": "ab317ee4-1ff1-4401-dbcd-849e0ff56e76"
      },
      "source": [
        "#ada = AdalineGD(n_iter=10, eta=0.01).fit(X_train, y_train)\n",
        "ada = AdalineGD(n_iter=10, eta=0.0001).fit(X, y)\n",
        "\n",
        "print(ada.n_iter)\n",
        "print(ada.w_)\n",
        "print(ada.cost_)\n",
        "\n",
        "# Let's now plot the cost against the number of epochs\n",
        "plt.plot(range(1, len(ada.cost_) + 1),\n",
        "         ada.cost_, marker='o')\n",
        "plt.xlabel('Epochs')\n",
        "plt.ylabel('Sum-squared-error')\n",
        "plt.show()"
      ],
      "execution_count": 201,
      "outputs": [
        {
          "output_type": "stream",
          "text": [
            "10\n",
            "[ 0.00523016 -0.0229981   0.09409078]\n",
            "[51.08122709777622, 48.734405003475466, 47.268121538341724, 46.127493074312454, 45.11577153141929, 44.16300470536643, 43.244135928281686, 42.350009099392544, 41.47710358023412, 40.62389994660111]\n"
          ],
          "name": "stdout"
        },
        {
          "output_type": "display_data",
          "data": {
            "image/png": "[encoded data removed]",
            "text/plain": [
              "<Figure size 432x288 with 1 Axes>"
            ]
          },
          "metadata": {
            "tags": []
          }
        }
      ]
    }
  ]
}